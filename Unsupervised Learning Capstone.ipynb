{
 "cells": [
  {
   "cell_type": "code",
   "execution_count": 1,
   "metadata": {},
   "outputs": [],
   "source": [
    "import numpy as np\n",
    "import pandas as pd\n",
    "import matplotlib.pyplot as plt\n",
    "import pickle\n",
    "import seaborn as sns\n",
    "import itertools\n",
    "import re\n",
    "import os"
   ]
  },
  {
   "cell_type": "markdown",
   "metadata": {},
   "source": [
    "### The Problem:\n",
    "This project's purpose is to group writers with similar styles in order to reduce the problem caused by \"Essay Mills\". These online web services, while not technically illegal in the United States, are undermining the quality of higher education. A CNN [article](http://am.blogs.cnn.com/2009/12/30/cheating-on-papers-is-a-booming-web-business/) from 2009 states that more than 250 essay sites existed at the time of writing. With the massive growth of the internet in the past 9 years, that number has surely grown much higher. According to the artice, the Center for Academic Integrity reports that 1/3 of its 360 member campuses have caught at least one student using a academic paper service.\n",
    "\n",
    "One of my roommates in college used one of these services for an entire semester; they even gave him a discount for one of his papers when they weren't able to deliver it on time."
   ]
  },
  {
   "cell_type": "markdown",
   "metadata": {},
   "source": [
    "### The Data:\n",
    "I have downloaded a literature corpus from the open source Project Gutenberg. The corpus consists of 3,036 books written in English by 142 authors and has been cleaned of metadata, license information, and other things. Here's the URL: https://web.eecs.umich.edu/~lahiri/gutenberg_dataset.html. I don't know if the dataset came from The University of Michigan, but they ask that anyone who uses their dataset to cite the following:\n",
    "\n",
    "[Complexity of Word Collocation Networks: A Preliminary Structural Analysis](http://www.aclweb.org/anthology/E14-3011) <br>\n",
    "Lahiri, Shibamouli <br>\n",
    "Proceedings of the Student Research Workshop at the 14th Conference of the European Chapter of the Association for Computational Linguistics <br>\n",
    "Association for Computational Linguistics. p. 96--105. April, 2014 <br>\n",
    "\n",
    "The original citation they have is in Bibtex format but I didn't want to mess with that, I apologize if there is something missing."
   ]
  },
  {
   "cell_type": "markdown",
   "metadata": {},
   "source": [
    "### The Plan:\n",
    "I hope to use this dataset to identify an author's writing style using unsupervised clustering and supervised learning prediction. The idea behind this approach is that a university could put each student's writing into a database (if privacy issues don't interfere, that's not my niche) and be able to identify when a work's style has changed to someone else's. Even if a student had __all__ of their documents written by the same person throughout all of their classes, a change in style would be easy to detect with an in-person writing test/prompt.\n",
    "\n",
    "I would like to point out that this will be more of a proof of concept than anything. Much more advanced methods are most likely needed to hone in on one writer's particular style out of many thousands. In addition, the dataset would need to consist of essay length texts instead of novels, and have clearly laid out topics and ideas instead of many pages of narrative. I will attempt to combat excessive length by dividing the works into chapters or chapter-sized chunks, but that is about the only remedy in my control in regards to the aforementioned problems. "
   ]
  },
  {
   "cell_type": "markdown",
   "metadata": {},
   "source": [
    "### The Code"
   ]
  },
  {
   "cell_type": "code",
   "execution_count": 2,
   "metadata": {},
   "outputs": [
    {
     "data": {
      "image/png": "[encoded data removed]",
      "text/plain": [
       "<matplotlib.figure.Figure at 0x20f7ad99a20>"
      ]
     },
     "metadata": {},
     "output_type": "display_data"
    }
   ],
   "source": [
    "# Filenames are formatted like so: 'Author Name___Text Name.txt'\n",
    "filenames = os.listdir('../Gutenberg/Gutenberg/txt/')[1:] # First file is not a text file.\n",
    "authors = list(set([filename.split('___')[0] for filename in filenames]))\n",
    "\n",
    "auth_count = {}\n",
    "auth_count_hist = []\n",
    "for author in authors:\n",
    "    auth_count[author] = len([filename for filename in filenames if filename.startswith(author)])\n",
    "    auth_count_hist.append(auth_count[author])\n",
    "    \n",
    "sns.distplot(auth_count_hist, kde=False)\n",
    "plt.title('Number of Works Histogram')\n",
    "plt.xlabel('Number of Works per Author')\n",
    "plt.ylabel('Number of Authors')\n",
    "plt.show()"
   ]
  },
  {
   "cell_type": "code",
   "execution_count": 3,
   "metadata": {},
   "outputs": [
    {
     "data": {
      "text/plain": [
       "['Daniel Defoe___A Journal of the Plague Year.txt',\n",
       " 'Daniel Defoe___A New Voyage Round the World by a Course Never Sailed Before.txt',\n",
       " 'Daniel Defoe___A Seasonable Warning and Caution against the Insinuations of Papists and Jacobites.txt',\n",
       " 'Daniel Defoe___A Short Narrative of the Life and Actions of His Grace John, D. of Marlborogh.txt',\n",
       " 'Daniel Defoe___A True Relation of the Apparition of one Mrs. Veal.txt',\n",
       " 'Daniel Defoe___A Vindication of the Press.txt',\n",
       " 'Daniel Defoe___An Appeal to Honour and Justice, Though It Be of His Worst Enemies.txt',\n",
       " 'Daniel Defoe___An Essay Upon Projects.txt',\n",
       " 'Daniel Defoe___An Humble Proposal to the People of England.txt',\n",
       " 'Daniel Defoe___Atalantis Major.txt',\n",
       " 'Daniel Defoe___Augusta Triumphans.txt',\n",
       " 'Daniel Defoe___Dickory Cronke.txt',\n",
       " \"Daniel Defoe___Everybody's Business is Nobody's Business.txt\",\n",
       " \"Daniel Defoe___From London to Land's End.txt\",\n",
       " 'Daniel Defoe___History of the Plague in London.txt',\n",
       " 'Daniel Defoe___Memoirs of a Cavalier.txt',\n",
       " 'Daniel Defoe___Memoirs of Major Alexander Ramkins (1718).txt',\n",
       " 'Daniel Defoe___Military Memoirs of Capt. George Carleton.txt',\n",
       " 'Daniel Defoe___Of Captain Mission.txt',\n",
       " 'Daniel Defoe___Reasons against the Succession of the House of Hanover.txt']"
      ]
     },
     "execution_count": 3,
     "metadata": {},
     "output_type": "execute_result"
    }
   ],
   "source": [
    "# Let's keep authors with less than 50 works, so we don't skew the dataset too much\n",
    "authors_50 = [author for author in authors if auth_count[author] < 50]\n",
    "filenames_50 = [[filename for filename in filenames if filename.startswith(author)] for author in authors_50]\n",
    "filenames_50 = list(itertools.chain.from_iterable(filenames_50))\n",
    "filenames_50[:20]"
   ]
  },
  {
   "cell_type": "code",
   "execution_count": null,
   "metadata": {},
   "outputs": [],
   "source": [
    "len(authors_50)"
   ]
  },
  {
   "cell_type": "code",
   "execution_count": 4,
   "metadata": {},
   "outputs": [
    {
     "data": {
      "text/html": [
       "<div>\n",
       "<style scoped>\n",
       "    .dataframe tbody tr th:only-of-type {\n",
       "        vertical-align: middle;\n",
       "    }\n",
       "\n",
       "    .dataframe tbody tr th {\n",
       "        vertical-align: top;\n",
       "    }\n",
       "\n",
       "    .dataframe thead th {\n",
       "        text-align: right;\n",
       "    }\n",
       "</style>\n",
       "<table border=\"1\" class=\"dataframe\">\n",
       "  <thead>\n",
       "    <tr style=\"text-align: right;\">\n",
       "      <th></th>\n",
       "      <th>author</th>\n",
       "      <th>title</th>\n",
       "      <th>filename</th>\n",
       "    </tr>\n",
       "  </thead>\n",
       "  <tbody>\n",
       "    <tr>\n",
       "      <th>0</th>\n",
       "      <td>Daniel Defoe</td>\n",
       "      <td>A Journal of the Plague Year</td>\n",
       "      <td>Daniel Defoe___A Journal of the Plague Year.txt</td>\n",
       "    </tr>\n",
       "    <tr>\n",
       "      <th>1</th>\n",
       "      <td>Daniel Defoe</td>\n",
       "      <td>A New Voyage Round the World by a Course Never...</td>\n",
       "      <td>Daniel Defoe___A New Voyage Round the World by...</td>\n",
       "    </tr>\n",
       "    <tr>\n",
       "      <th>2</th>\n",
       "      <td>Daniel Defoe</td>\n",
       "      <td>A Seasonable Warning and Caution against the I...</td>\n",
       "      <td>Daniel Defoe___A Seasonable Warning and Cautio...</td>\n",
       "    </tr>\n",
       "    <tr>\n",
       "      <th>3</th>\n",
       "      <td>Daniel Defoe</td>\n",
       "      <td>A Short Narrative of the Life and Actions of H...</td>\n",
       "      <td>Daniel Defoe___A Short Narrative of the Life a...</td>\n",
       "    </tr>\n",
       "    <tr>\n",
       "      <th>4</th>\n",
       "      <td>Daniel Defoe</td>\n",
       "      <td>A True Relation of the Apparition of one Mrs. ...</td>\n",
       "      <td>Daniel Defoe___A True Relation of the Appariti...</td>\n",
       "    </tr>\n",
       "  </tbody>\n",
       "</table>\n",
       "</div>"
      ],
      "text/plain": [
       "         author                                              title  \\\n",
       "0  Daniel Defoe                       A Journal of the Plague Year   \n",
       "1  Daniel Defoe  A New Voyage Round the World by a Course Never...   \n",
       "2  Daniel Defoe  A Seasonable Warning and Caution against the I...   \n",
       "3  Daniel Defoe  A Short Narrative of the Life and Actions of H...   \n",
       "4  Daniel Defoe  A True Relation of the Apparition of one Mrs. ...   \n",
       "\n",
       "                                            filename  \n",
       "0    Daniel Defoe___A Journal of the Plague Year.txt  \n",
       "1  Daniel Defoe___A New Voyage Round the World by...  \n",
       "2  Daniel Defoe___A Seasonable Warning and Cautio...  \n",
       "3  Daniel Defoe___A Short Narrative of the Life a...  \n",
       "4  Daniel Defoe___A True Relation of the Appariti...  "
      ]
     },
     "execution_count": 4,
     "metadata": {},
     "output_type": "execute_result"
    }
   ],
   "source": [
    "df = pd.DataFrame(columns = ['author', 'title', 'filename'])\n",
    "\n",
    "df['filename'] = filenames_50\n",
    "df['author'] = [file.split('___')[0] for file in df['filename']]\n",
    "\n",
    "df['title'] = [file.split('___')[1].split('.txt')[0] for file in df['filename']]\n",
    "df.head()"
   ]
  },
  {
   "cell_type": "markdown",
   "metadata": {},
   "source": [
    "Now that we have chosen our dataset, let's chunk it and clean it."
   ]
  },
  {
   "cell_type": "code",
   "execution_count": 5,
   "metadata": {},
   "outputs": [
    {
     "name": "stdout",
     "output_type": "stream",
     "text": [
      "Number of bad files encountered: 17\n"
     ]
    },
    {
     "data": {
      "text/html": [
       "<div>\n",
       "<style scoped>\n",
       "    .dataframe tbody tr th:only-of-type {\n",
       "        vertical-align: middle;\n",
       "    }\n",
       "\n",
       "    .dataframe tbody tr th {\n",
       "        vertical-align: top;\n",
       "    }\n",
       "\n",
       "    .dataframe thead th {\n",
       "        text-align: right;\n",
       "    }\n",
       "</style>\n",
       "<table border=\"1\" class=\"dataframe\">\n",
       "  <thead>\n",
       "    <tr style=\"text-align: right;\">\n",
       "      <th></th>\n",
       "      <th>author</th>\n",
       "      <th>title</th>\n",
       "      <th>filename</th>\n",
       "      <th>full_text</th>\n",
       "    </tr>\n",
       "  </thead>\n",
       "  <tbody>\n",
       "    <tr>\n",
       "      <th>0</th>\n",
       "      <td>Daniel Defoe</td>\n",
       "      <td>A Journal of the Plague Year</td>\n",
       "      <td>Daniel Defoe___A Journal of the Plague Year.txt</td>\n",
       "      <td>\\nA JOURNAL OF THE PLAGUE YEAR\\n\\nBy Daniel De...</td>\n",
       "    </tr>\n",
       "    <tr>\n",
       "      <th>1</th>\n",
       "      <td>Daniel Defoe</td>\n",
       "      <td>A New Voyage Round the World by a Course Never...</td>\n",
       "      <td>Daniel Defoe___A New Voyage Round the World by...</td>\n",
       "      <td>\\nA NEW VOYAGE ROUND THE WORLD,\\n\\nBY A Course...</td>\n",
       "    </tr>\n",
       "    <tr>\n",
       "      <th>2</th>\n",
       "      <td>Daniel Defoe</td>\n",
       "      <td>A True Relation of the Apparition of one Mrs. ...</td>\n",
       "      <td>Daniel Defoe___A True Relation of the Appariti...</td>\n",
       "      <td>\\nA TRUE RELATION\\n\\nOF THE\\n\\nAPPARITION OF O...</td>\n",
       "    </tr>\n",
       "    <tr>\n",
       "      <th>3</th>\n",
       "      <td>Daniel Defoe</td>\n",
       "      <td>A Vindication of the Press</td>\n",
       "      <td>Daniel Defoe___A Vindication of the Press.txt</td>\n",
       "      <td>\\nThe Augustan Reprint Society\\n\\n\\nDaniel Def...</td>\n",
       "    </tr>\n",
       "    <tr>\n",
       "      <th>4</th>\n",
       "      <td>Daniel Defoe</td>\n",
       "      <td>An Appeal to Honour and Justice, Though It Be ...</td>\n",
       "      <td>Daniel Defoe___An Appeal to Honour and Justice...</td>\n",
       "      <td>\\n  AN APPEAL\\n\\n  TO\\n\\n  HONOUR AND JUSTICE,...</td>\n",
       "    </tr>\n",
       "  </tbody>\n",
       "</table>\n",
       "</div>"
      ],
      "text/plain": [
       "         author                                              title  \\\n",
       "0  Daniel Defoe                       A Journal of the Plague Year   \n",
       "1  Daniel Defoe  A New Voyage Round the World by a Course Never...   \n",
       "2  Daniel Defoe  A True Relation of the Apparition of one Mrs. ...   \n",
       "3  Daniel Defoe                         A Vindication of the Press   \n",
       "4  Daniel Defoe  An Appeal to Honour and Justice, Though It Be ...   \n",
       "\n",
       "                                            filename  \\\n",
       "0    Daniel Defoe___A Journal of the Plague Year.txt   \n",
       "1  Daniel Defoe___A New Voyage Round the World by...   \n",
       "2  Daniel Defoe___A True Relation of the Appariti...   \n",
       "3      Daniel Defoe___A Vindication of the Press.txt   \n",
       "4  Daniel Defoe___An Appeal to Honour and Justice...   \n",
       "\n",
       "                                           full_text  \n",
       "0  \\nA JOURNAL OF THE PLAGUE YEAR\\n\\nBy Daniel De...  \n",
       "1  \\nA NEW VOYAGE ROUND THE WORLD,\\n\\nBY A Course...  \n",
       "2  \\nA TRUE RELATION\\n\\nOF THE\\n\\nAPPARITION OF O...  \n",
       "3  \\nThe Augustan Reprint Society\\n\\n\\nDaniel Def...  \n",
       "4  \\n  AN APPEAL\\n\\n  TO\\n\\n  HONOUR AND JUSTICE,...  "
      ]
     },
     "execution_count": 5,
     "metadata": {},
     "output_type": "execute_result"
    }
   ],
   "source": [
    "df['full_text'] = None\n",
    "texts = []\n",
    "bad_file_count = 0\n",
    "for i, filename in enumerate(filenames_50):\n",
    "    try:\n",
    "        with open(r'../Gutenberg/Gutenberg/txt/'+filename, encoding='utf-8') as file:\n",
    "            data = file.read()\n",
    "            df.loc[i, 'full_text'] = data\n",
    "            texts.append(data)\n",
    "    except:\n",
    "        bad_file_count += 1\n",
    "\n",
    "df.dropna(inplace=True)\n",
    "df.reset_index(inplace=True, drop=True)\n",
    "print('Number of bad files encountered:', bad_file_count)\n",
    "df.head()"
   ]
  },
  {
   "cell_type": "markdown",
   "metadata": {},
   "source": [
    "I'd like to note here that for some reason, multiple files would not load and threw the error \"filename not found\" even though the filename was exact. The filenames immediately before and after also worked just fine. Perhaps there was some hidden bytes in the strings I used that were not properly decoded? Since it was the same files every time, I decided to throw them out. We have plenty of data so it should be fine."
   ]
  },
  {
   "cell_type": "code",
   "execution_count": 6,
   "metadata": {},
   "outputs": [
    {
     "data": {
      "image/png": "[encoded data removed]",
      "text/plain": [
       "<matplotlib.figure.Figure at 0x20f7f84e438>"
      ]
     },
     "metadata": {},
     "output_type": "display_data"
    }
   ],
   "source": [
    "n_chapters = [len(texts[i].lower().split('chapter')) for i in range(len(texts))]\n",
    "text_lengths = [len(texts[i]) for i in range(len(texts))]\n",
    "df['n_chapters'] = n_chapters\n",
    "df['text_lengths'] = text_lengths\n",
    "\n",
    "plt.figure(figsize=(15, 5))\n",
    "plt.subplot(121)\n",
    "sns.distplot(n_chapters, kde=False)\n",
    "plt.title('Distribution of Chapters')\n",
    "plt.xlabel('Number of Chapters')\n",
    "plt.ylabel('Frequency')\n",
    "\n",
    "plt.subplot(122)\n",
    "sns.distplot(text_lengths, kde=False)\n",
    "plt.title('Distribution of Text Lengths')\n",
    "plt.xlabel('Number of Characters')\n",
    "plt.ylabel('Frequency')\n",
    "plt.tight_layout()\n",
    "plt.show()"
   ]
  },
  {
   "cell_type": "markdown",
   "metadata": {},
   "source": [
    "Looks like a lot of our books (more than half) do not have more than one chapter (or cannot be split on the word \"chapter\"). However, it appears that a majority of our books have tons of words, or specifically, characters. Let's use the average of characters per chapter from the texts that have chapters, and we can use that number to divide up our books into nice chapter-sized chunks."
   ]
  },
  {
   "cell_type": "code",
   "execution_count": 7,
   "metadata": {},
   "outputs": [
    {
     "name": "stdout",
     "output_type": "stream",
     "text": [
      "average_char_count: 54237\n"
     ]
    }
   ],
   "source": [
    "average_char_count = [text_lengths[i] // n_chapters[i] for i in range(len(n_chapters))\n",
    "                      if n_chapters[i] > 1]\n",
    "average_char_count = sum(average_char_count) // len(average_char_count)\n",
    "print('average_char_count:', average_char_count)"
   ]
  },
  {
   "cell_type": "code",
   "execution_count": 8,
   "metadata": {},
   "outputs": [
    {
     "data": {
      "text/html": [
       "<div>\n",
       "<style scoped>\n",
       "    .dataframe tbody tr th:only-of-type {\n",
       "        vertical-align: middle;\n",
       "    }\n",
       "\n",
       "    .dataframe tbody tr th {\n",
       "        vertical-align: top;\n",
       "    }\n",
       "\n",
       "    .dataframe thead th {\n",
       "        text-align: right;\n",
       "    }\n",
       "</style>\n",
       "<table border=\"1\" class=\"dataframe\">\n",
       "  <thead>\n",
       "    <tr style=\"text-align: right;\">\n",
       "      <th></th>\n",
       "      <th>author</th>\n",
       "      <th>title</th>\n",
       "      <th>filename</th>\n",
       "      <th>full_text</th>\n",
       "      <th>n_chapters</th>\n",
       "      <th>text_lengths</th>\n",
       "    </tr>\n",
       "  </thead>\n",
       "  <tbody>\n",
       "    <tr>\n",
       "      <th>0</th>\n",
       "      <td>Daniel Defoe</td>\n",
       "      <td>A Journal of the Plague Year</td>\n",
       "      <td>Daniel Defoe___A Journal of the Plague Year.txt</td>\n",
       "      <td>[\\nA JOURNAL OF THE PLAGUE YEAR\\n\\nBy Daniel D...</td>\n",
       "      <td>1</td>\n",
       "      <td>520505</td>\n",
       "    </tr>\n",
       "    <tr>\n",
       "      <th>1</th>\n",
       "      <td>Daniel Defoe</td>\n",
       "      <td>A New Voyage Round the World by a Course Never...</td>\n",
       "      <td>Daniel Defoe___A New Voyage Round the World by...</td>\n",
       "      <td>[\\nA NEW VOYAGE ROUND THE WORLD,\\n\\nBY A Cours...</td>\n",
       "      <td>1</td>\n",
       "      <td>626262</td>\n",
       "    </tr>\n",
       "    <tr>\n",
       "      <th>2</th>\n",
       "      <td>Daniel Defoe</td>\n",
       "      <td>A True Relation of the Apparition of one Mrs. ...</td>\n",
       "      <td>Daniel Defoe___A True Relation of the Appariti...</td>\n",
       "      <td>\\nA TRUE RELATION\\n\\nOF THE\\n\\nAPPARITION OF O...</td>\n",
       "      <td>1</td>\n",
       "      <td>32777</td>\n",
       "    </tr>\n",
       "    <tr>\n",
       "      <th>3</th>\n",
       "      <td>Daniel Defoe</td>\n",
       "      <td>A Vindication of the Press</td>\n",
       "      <td>Daniel Defoe___A Vindication of the Press.txt</td>\n",
       "      <td>[\\nThe Augustan Reprint Society\\n\\n\\nDaniel De...</td>\n",
       "      <td>1</td>\n",
       "      <td>63186</td>\n",
       "    </tr>\n",
       "    <tr>\n",
       "      <th>4</th>\n",
       "      <td>Daniel Defoe</td>\n",
       "      <td>An Appeal to Honour and Justice, Though It Be ...</td>\n",
       "      <td>Daniel Defoe___An Appeal to Honour and Justice...</td>\n",
       "      <td>[\\n  AN APPEAL\\n\\n  TO\\n\\n  HONOUR AND JUSTICE...</td>\n",
       "      <td>1</td>\n",
       "      <td>84586</td>\n",
       "    </tr>\n",
       "  </tbody>\n",
       "</table>\n",
       "</div>"
      ],
      "text/plain": [
       "         author                                              title  \\\n",
       "0  Daniel Defoe                       A Journal of the Plague Year   \n",
       "1  Daniel Defoe  A New Voyage Round the World by a Course Never...   \n",
       "2  Daniel Defoe  A True Relation of the Apparition of one Mrs. ...   \n",
       "3  Daniel Defoe                         A Vindication of the Press   \n",
       "4  Daniel Defoe  An Appeal to Honour and Justice, Though It Be ...   \n",
       "\n",
       "                                            filename  \\\n",
       "0    Daniel Defoe___A Journal of the Plague Year.txt   \n",
       "1  Daniel Defoe___A New Voyage Round the World by...   \n",
       "2  Daniel Defoe___A True Relation of the Appariti...   \n",
       "3      Daniel Defoe___A Vindication of the Press.txt   \n",
       "4  Daniel Defoe___An Appeal to Honour and Justice...   \n",
       "\n",
       "                                           full_text  n_chapters  text_lengths  \n",
       "0  [\\nA JOURNAL OF THE PLAGUE YEAR\\n\\nBy Daniel D...           1        520505  \n",
       "1  [\\nA NEW VOYAGE ROUND THE WORLD,\\n\\nBY A Cours...           1        626262  \n",
       "2  \\nA TRUE RELATION\\n\\nOF THE\\n\\nAPPARITION OF O...           1         32777  \n",
       "3  [\\nThe Augustan Reprint Society\\n\\n\\nDaniel De...           1         63186  \n",
       "4  [\\n  AN APPEAL\\n\\n  TO\\n\\n  HONOUR AND JUSTICE...           1         84586  "
      ]
     },
     "execution_count": 8,
     "metadata": {},
     "output_type": "execute_result"
    }
   ],
   "source": [
    "df['full_text'] = None\n",
    "split_texts = []\n",
    "for i, text in enumerate(texts):\n",
    "    if df.loc[i, 'text_lengths'] < average_char_count:\n",
    "        split_texts.append(texts[i])\n",
    "    else:\n",
    "        # This one is a little tricky\n",
    "        split_texts.append([text[i:i + average_char_count]                        \n",
    "                            if i < len(text) - average_char_count\n",
    "                            else text[i:]\n",
    "                            for i in range(0, len(text), average_char_count)])\n",
    "\n",
    "df['full_text'] = split_texts\n",
    "df.head()"
   ]
  },
  {
   "cell_type": "markdown",
   "metadata": {},
   "source": [
    "I think it would be best to make a new row for each and every chunk of text we have, that will make this a lot easier."
   ]
  },
  {
   "cell_type": "code",
   "execution_count": 9,
   "metadata": {},
   "outputs": [
    {
     "name": "stdout",
     "output_type": "stream",
     "text": [
      "Number of chapters to work with: 14854\n"
     ]
    },
    {
     "data": {
      "text/html": [
       "<div>\n",
       "<style scoped>\n",
       "    .dataframe tbody tr th:only-of-type {\n",
       "        vertical-align: middle;\n",
       "    }\n",
       "\n",
       "    .dataframe tbody tr th {\n",
       "        vertical-align: top;\n",
       "    }\n",
       "\n",
       "    .dataframe thead th {\n",
       "        text-align: right;\n",
       "    }\n",
       "</style>\n",
       "<table border=\"1\" class=\"dataframe\">\n",
       "  <thead>\n",
       "    <tr style=\"text-align: right;\">\n",
       "      <th></th>\n",
       "      <th>chapter</th>\n",
       "      <th>author</th>\n",
       "      <th>title</th>\n",
       "    </tr>\n",
       "  </thead>\n",
       "  <tbody>\n",
       "    <tr>\n",
       "      <th>0</th>\n",
       "      <td>\\nOPTICKS:\\n\\nOR, A\\n\\nTREATISE\\n\\nOF THE\\n\\n_...</td>\n",
       "      <td>Sir Isaac Newton</td>\n",
       "      <td>Opticks</td>\n",
       "    </tr>\n",
       "    <tr>\n",
       "      <th>1</th>\n",
       "      <td>\\nfarther distant from one another than the re...</td>\n",
       "      <td>Sir Isaac Newton</td>\n",
       "      <td>Opticks</td>\n",
       "    </tr>\n",
       "    <tr>\n",
       "      <th>2</th>\n",
       "      <td>which went to the middle of\\nthe Sun's colour...</td>\n",
       "      <td>Sir Isaac Newton</td>\n",
       "      <td>Opticks</td>\n",
       "    </tr>\n",
       "    <tr>\n",
       "      <th>3</th>\n",
       "      <td>\\nnot sensible, and therefore in Experiments, ...</td>\n",
       "      <td>Sir Isaac Newton</td>\n",
       "      <td>Opticks</td>\n",
       "    </tr>\n",
       "    <tr>\n",
       "      <th>4</th>\n",
       "      <td>s arising on the edges is\\nmuch the same, as w...</td>\n",
       "      <td>Sir Isaac Newton</td>\n",
       "      <td>Opticks</td>\n",
       "    </tr>\n",
       "  </tbody>\n",
       "</table>\n",
       "</div>"
      ],
      "text/plain": [
       "                                             chapter            author  \\\n",
       "0  \\nOPTICKS:\\n\\nOR, A\\n\\nTREATISE\\n\\nOF THE\\n\\n_...  Sir Isaac Newton   \n",
       "1  \\nfarther distant from one another than the re...  Sir Isaac Newton   \n",
       "2   which went to the middle of\\nthe Sun's colour...  Sir Isaac Newton   \n",
       "3  \\nnot sensible, and therefore in Experiments, ...  Sir Isaac Newton   \n",
       "4  s arising on the edges is\\nmuch the same, as w...  Sir Isaac Newton   \n",
       "\n",
       "     title  \n",
       "0  Opticks  \n",
       "1  Opticks  \n",
       "2  Opticks  \n",
       "3  Opticks  \n",
       "4  Opticks  "
      ]
     },
     "execution_count": 9,
     "metadata": {},
     "output_type": "execute_result"
    }
   ],
   "source": [
    "run_this_loop = False\n",
    "overwrite_chapters = False\n",
    "\n",
    "if run_this_loop:\n",
    "    # Although, this is definiely not the best way to do it :)\n",
    "    df_chapters = pd.DataFrame(columns=['chapter', 'author', 'title'])\n",
    "\n",
    "    for i, chunks in enumerate(df.loc[:, 'full_text']):\n",
    "        # This will always keep the \n",
    "        current_idx = len(df_chapters)\n",
    "        if type(chunks) == list:    \n",
    "            for j, chunk in enumerate(chunks):\n",
    "                df_chapters.loc[j+current_idx, 'author'] = df.loc[i, 'author']\n",
    "                df_chapters.loc[j+current_idx, 'title'] = df.loc[i, 'title']\n",
    "                df_chapters.loc[j+current_idx, 'chapter'] = chunk\n",
    "        else:\n",
    "            df_chapters.loc[current_idx, 'author'] = df.loc[i, 'author']\n",
    "            df_chapters.loc[current_idx, 'title'] = df.loc[i, 'title']\n",
    "            df_chapters.loc[current_idx, 'chapter'] = chunk        \n",
    "else:\n",
    "    df_chapters = pickle.load(open('../df_chapters.pkl', 'rb'))\n",
    "    \n",
    "if overwrite_chapters:\n",
    "    pickle.dump(df_chapters, open('../df_chapters'))\n",
    "\n",
    "run_this_loop = False\n",
    "print('Number of chapters to work with:', len(df_chapters))\n",
    "df_chapters.head()"
   ]
  },
  {
   "cell_type": "code",
   "execution_count": 10,
   "metadata": {},
   "outputs": [
    {
     "data": {
      "text/html": [
       "<div>\n",
       "<style scoped>\n",
       "    .dataframe tbody tr th:only-of-type {\n",
       "        vertical-align: middle;\n",
       "    }\n",
       "\n",
       "    .dataframe tbody tr th {\n",
       "        vertical-align: top;\n",
       "    }\n",
       "\n",
       "    .dataframe thead th {\n",
       "        text-align: right;\n",
       "    }\n",
       "</style>\n",
       "<table border=\"1\" class=\"dataframe\">\n",
       "  <thead>\n",
       "    <tr style=\"text-align: right;\">\n",
       "      <th></th>\n",
       "      <th>author</th>\n",
       "      <th>title</th>\n",
       "      <th>processed_chapter</th>\n",
       "    </tr>\n",
       "  </thead>\n",
       "  <tbody>\n",
       "    <tr>\n",
       "      <th>0</th>\n",
       "      <td>Sir Isaac Newton</td>\n",
       "      <td>Opticks</td>\n",
       "      <td>: OR ,  A treatis OF the reflect ,  refract ,...</td>\n",
       "    </tr>\n",
       "    <tr>\n",
       "      <th>1</th>\n",
       "      <td>Sir Isaac Newton</td>\n",
       "      <td>Opticks</td>\n",
       "      <td>farther distant from one anoth than the red o...</td>\n",
       "    </tr>\n",
       "    <tr>\n",
       "      <th>2</th>\n",
       "      <td>Sir Isaac Newton</td>\n",
       "      <td>Opticks</td>\n",
       "      <td>which went to the middl of the sun' colour im...</td>\n",
       "    </tr>\n",
       "    <tr>\n",
       "      <th>3</th>\n",
       "      <td>Sir Isaac Newton</td>\n",
       "      <td>Opticks</td>\n",
       "      <td>not sensibl ,  and therefor in experi ,  wher...</td>\n",
       "    </tr>\n",
       "    <tr>\n",
       "      <th>4</th>\n",
       "      <td>Sir Isaac Newton</td>\n",
       "      <td>Opticks</td>\n",
       "      <td>s aris on the edg is much the same ,  as will...</td>\n",
       "    </tr>\n",
       "  </tbody>\n",
       "</table>\n",
       "</div>"
      ],
      "text/plain": [
       "             author    title  \\\n",
       "0  Sir Isaac Newton  Opticks   \n",
       "1  Sir Isaac Newton  Opticks   \n",
       "2  Sir Isaac Newton  Opticks   \n",
       "3  Sir Isaac Newton  Opticks   \n",
       "4  Sir Isaac Newton  Opticks   \n",
       "\n",
       "                                   processed_chapter  \n",
       "0   : OR ,  A treatis OF the reflect ,  refract ,...  \n",
       "1   farther distant from one anoth than the red o...  \n",
       "2   which went to the middl of the sun' colour im...  \n",
       "3   not sensibl ,  and therefor in experi ,  wher...  \n",
       "4   s aris on the edg is much the same ,  as will...  "
      ]
     },
     "execution_count": 10,
     "metadata": {},
     "output_type": "execute_result"
    }
   ],
   "source": [
    "run_this_loop = False\n",
    "overwrite_features = False\n",
    "\n",
    "if run_this_loop:\n",
    "    from nltk.stem.porter import PorterStemmer\n",
    "    port_stem = PorterStemmer() # The only args are which version to use, and the default is best\n",
    "\n",
    "    df_features['processed_chapter'] = None\n",
    "    for i, chapter in enumerate(df_features.chapter):\n",
    "        # Get rid of new lines and book titles. The first chapter will always be pretty screwed up, oh well\n",
    "        processed_text = re.sub('^[ A-Z]*', ' ', re.sub('(\\n)+', ' ', chapter))\n",
    "        # Add spaces before and after all punctuation\n",
    "        processed_text = re.sub('([-.,!?()])', r' \\1 ', processed_text)\n",
    "        # I don't remember if this needs its own step, so I'll just leave it here\n",
    "        processed_text = re.sub('([_])', '', processed_text)\n",
    "        df_features.loc[i, 'processed_chapter'] = ' '.join([port_stem.stem(token) for token in processed_text.split(' ')])\n",
    "else:\n",
    "    df_features = pickle.load(open('../df_features.pkl', 'rb'))\n",
    "    \n",
    "if overwrite_features:\n",
    "    pickle.dump(df_features, open('../df_features.pkl', 'wb'))\n",
    "    \n",
    "run_this_loop = False\n",
    "df_features.head()"
   ]
  },
  {
   "cell_type": "markdown",
   "metadata": {},
   "source": [
    "# TFIDF and LSA\n",
    "Without these two steps, clustering wouldn't be possible for two reasons:\n",
    "1. We need numeric data to use in the clustering algorithms\n",
    "2. The memory requirements for giant tfidf vectors would be much too large. Therefore, we must reduce the dataset with LSA"
   ]
  },
  {
   "cell_type": "code",
   "execution_count": 11,
   "metadata": {},
   "outputs": [
    {
     "name": "stdout",
     "output_type": "stream",
     "text": [
      "Shape of TFIDF Vector: (14854, 159974)\n"
     ]
    }
   ],
   "source": [
    "from sklearn.feature_extraction.text import TfidfVectorizer\n",
    "from sklearn.model_selection import train_test_split\n",
    "\n",
    "run_this_loop = False\n",
    "overwrite_tfidf = False\n",
    "\n",
    "if run_this_loop:\n",
    "    vectorizer = TfidfVectorizer(max_df=0.5, # drop words that occur in more than half the paragraphs\n",
    "                                 min_df=2, # only use words that appear at least twice\n",
    "                                 stop_words='english', \n",
    "                                 lowercase=True, #convert everything to lower case (since Alice in Wonderland has the HABIT of CAPITALIZING WORDS for EMPHASIS)\n",
    "                                 use_idf=True,#we definitely want to use inverse document frequencies in our weighting\n",
    "                                 norm=u'l2', #Applies a correction factor so that longer paragraphs and shorter paragraphs get treated equally\n",
    "                                 smooth_idf=True #Adds 1 to all document frequencies, as if an extra document existed that used every word once.  Prevents divide-by-zero errors\n",
    "                                )\n",
    "\n",
    "    chapters_tfidf = vectorizer.fit_transform(df_features.processed_chapter)\n",
    "    \n",
    "else:\n",
    "    chapters_tfidf = pickle.load(open('../chapters_tfidf.pkl', 'rb'))\n",
    "\n",
    "if overwrite_tfidf:\n",
    "    pickle.dump(chapters_tfidf, open('../chapters_tfidf.pkl', 'wb'))\n",
    "\n",
    "X_train_tfidf, X_test_tfidf, y_train_tfidf, y_test_tfidf = train_test_split(chapters_tfidf, df_features.loc[:, 'author'], test_size=0.25)\n",
    "print('Shape of TFIDF Vector:', chapters_tfidf.get_shape())"
   ]
  },
  {
   "cell_type": "code",
   "execution_count": 12,
   "metadata": {},
   "outputs": [
    {
     "name": "stdout",
     "output_type": "stream",
     "text": [
      "Percent variance captured by all components: 39.789898496134725\n"
     ]
    },
    {
     "data": {
      "text/plain": [
       "(11140, 500)"
      ]
     },
     "execution_count": 12,
     "metadata": {},
     "output_type": "execute_result"
    }
   ],
   "source": [
    "from sklearn.decomposition import TruncatedSVD\n",
    "from sklearn.pipeline import make_pipeline\n",
    "from sklearn.preprocessing import Normalizer\n",
    "\n",
    "#Our SVD data reducer.  We are going to reduce the feature space from 23000 to 1000.\n",
    "svd = TruncatedSVD(500)\n",
    "lsa = make_pipeline(svd, Normalizer(copy=False))\n",
    "# Run SVD on the training data, then project the training data.\n",
    "X_train_lsa = lsa.fit_transform(X_train_tfidf)\n",
    "X_test_lsa = lsa.transform(X_test_tfidf)\n",
    "variance_explained = svd.explained_variance_ratio_\n",
    "total_variance = variance_explained.sum()\n",
    "print(\"Percent variance captured by all components:\",total_variance*100)\n",
    "\n",
    "X_train_lsa.shape"
   ]
  },
  {
   "cell_type": "code",
   "execution_count": 13,
   "metadata": {},
   "outputs": [
    {
     "data": {
      "image/png": "[encoded data removed]",
      "text/plain": [
       "<matplotlib.figure.Figure at 0x20f6b72a278>"
      ]
     },
     "metadata": {},
     "output_type": "display_data"
    }
   ],
   "source": [
    "plt.plot([sum(variance_explained[:i]) for i in range(len(variance_explained))])\n",
    "plt.title('Scree Plot')\n",
    "plt.xlim([0, len(variance_explained)])\n",
    "plt.xlabel('Component Number')\n",
    "plt.ylim([0, 1])\n",
    "plt.ylabel('Variance Explained')\n",
    "plt.show()"
   ]
  },
  {
   "cell_type": "markdown",
   "metadata": {},
   "source": [
    "Interesting. I think that because each data point is an entire chapter, this causes each tfidf vector to look very similar. The vector should be sparse, REALLY sparse, so that each vector contributes a useful piece of information. I think that chapter tfidf vectors might be a little too 'loud' so to speak. We'll see how this goes, I guess."
   ]
  },
  {
   "cell_type": "markdown",
   "metadata": {},
   "source": [
    "# Clustering of the texts"
   ]
  },
  {
   "cell_type": "markdown",
   "metadata": {},
   "source": [
    "### Mean Shift"
   ]
  },
  {
   "cell_type": "code",
   "execution_count": 18,
   "metadata": {},
   "outputs": [
    {
     "data": {
      "image/png": "[encoded data removed]",
      "text/plain": [
       "<matplotlib.figure.Figure at 0x2103d43ac88>"
      ]
     },
     "metadata": {},
     "output_type": "display_data"
    }
   ],
   "source": [
    "from sklearn import cluster\n",
    "from sklearn.metrics import adjusted_rand_score\n",
    "\n",
    "continue_on = True\n",
    "\n",
    "if continue_on:\n",
    "    ms_results = pickle.load(open('../ms_results.pkl', 'rb'))\n",
    "    b_cont = ms_results.loc[-1, 'b']\n",
    "    i = len(ms_results)\n",
    "else:\n",
    "    ms_results = pd.DataFrame(columns=['bandwidth', 'score'])\n",
    "    b_cont = .75\n",
    "    i_cont = 0\n",
    "\n",
    "x_fraction = len(X_train_lsa)\n",
    "for i, b in enumerate(np.arange(b_cont, 1.26, .1)):\n",
    "#     bandwidth = cluster.estimate_bandwidth(X_train_lsa[:x_fraction, :])\n",
    "    ms_clusters = cluster.MeanShift(bandwidth=b, n_jobs=-1)\n",
    "    ms_clusters.fit(X_train_lsa[:x_fraction, :])\n",
    "    ms_results.loc[i+i_cont, 'bandwidth'] = b\n",
    "    ms_results.loc[i+i_cont, 'score'] = adjusted_rand_score(y_train_tfidf.iloc[:x_fraction], ms_clusters.labels_)\n",
    "    pickle.dump(ms_results, open('../ms_results.pkl', 'wb'))\n",
    "    break\n",
    "    \n",
    "# I used groupby().mean() to smooth out scores\n",
    "plt.plot(ms_results['bandwidth'], ms_results['score'])\n",
    "plt.title('Mean Shift ARI ')\n",
    "plt.xlabel('Bandwidth')\n",
    "plt.ylabel('Adjusted Random Index')\n",
    "plt.ylim([0, 1])\n",
    "plt.show()"
   ]
  },
  {
   "cell_type": "markdown",
   "metadata": {},
   "source": [
    "At first, I was using the estimate_bandwidth() function to automatically feed into the clustering algorithm. However, I found in the documentation that this can lead to bottlenecks. In addition, it was returning only one cluster. So, I've decided to iterate over it as a hyperparamter instead. It might look a little complicated but that's because I decided to run it in chunks. I'm not a very patient person."
   ]
  },
  {
   "cell_type": "markdown",
   "metadata": {},
   "source": [
    "## K-Means"
   ]
  },
  {
   "cell_type": "code",
   "execution_count": null,
   "metadata": {},
   "outputs": [],
   "source": [
    "score_km = []\n",
    "for i in range(15):\n",
    "    for n in range(2, 25):\n",
    "        k_means = cluster.KMeans(n_clusters=n)\n",
    "        k_means.fit(X_train_lsa)\n",
    "        score_km.append([n, adjusted_rand_score(y_train_tfidf, k_means.labels_)])\n",
    "        \n",
    "# Put the results in a dataframe to do a groupby operation\n",
    "n_df = pd.DataFrame(score_km, columns=['n', 'score'])\n",
    "\n",
    "# I used groupby().mean() to smooth out scores\n",
    "plt.plot(n_df.groupby('n', 0).mean())\n",
    "plt.title('K-Means Averaged ARI ({} Iterations)'.format(i+1))\n",
    "plt.xlabel('n_clusters')\n",
    "plt.ylabel('Average ARI')\n",
    "plt.ylim([0, 1])\n",
    "plt.show()"
   ]
  },
  {
   "cell_type": "markdown",
   "metadata": {},
   "source": [
    "I ran the above cell multiple times and averaged the ARI to get a more stable representation of the score. It should be noted, however, that the instability that made that necessary could also be indicative of instability in the solution. A score close to '0' corresponds to randomly generated clusters, while a score of 1 indicates perfect clustering. The best score of ~0.4 is not exactly fantastic, but it's not completely terrible.\n",
    "\n",
    "I want to try to cluster the tfidf vectors. This could get a little messy!"
   ]
  },
  {
   "cell_type": "markdown",
   "metadata": {},
   "source": [
    "## Mini-Batch K-Means (lsa)"
   ]
  },
  {
   "cell_type": "code",
   "execution_count": null,
   "metadata": {},
   "outputs": [],
   "source": [
    "from sklearn.metrics import adjusted_rand_score\n",
    "\n",
    "score_mbkm = []\n",
    "for i in range(1):\n",
    "    for n in range(20, 200, 5):\n",
    "        mbkm = cluster.MiniBatchKMeans(n_clusters=n, n_init=5, max_iter=100)\n",
    "        mbkm.fit(X_train_lsa)\n",
    "        score_mbkm.append([n, adjusted_rand_score(y_train_tfidf, mbkm.labels_)])\n",
    "\n",
    "# Put the results in a dataframe to do a groupby operation\n",
    "nn_df = pd.DataFrame(score_mbkm, columns=['n', 'score'])\n",
    "\n",
    "# I used groupby().mean() to smooth out scores\n",
    "plt.plot(nn_df.groupby('n', 0).mean())\n",
    "plt.title('Mini-Batch K-Means Averaged ARI ({} Iterations)'.format(i+1))\n",
    "plt.xlabel('n_clusters')\n",
    "plt.ylabel('Average ARI')\n",
    "plt.ylim([0, 1])\n",
    "plt.show()"
   ]
  },
  {
   "cell_type": "markdown",
   "metadata": {},
   "source": [
    "## Mini-Batch K-Means (tfidf)"
   ]
  },
  {
   "cell_type": "code",
   "execution_count": null,
   "metadata": {},
   "outputs": [],
   "source": [
    "from sklearn.metrics import adjusted_rand_score\n",
    "\n",
    "score_mbkm = []\n",
    "for i in range(1):\n",
    "    for n in range(20, 200, 5):\n",
    "        mbkm = cluster.MiniBatchKMeans(n_clusters=n, n_init=5, max_iter=100)\n",
    "        mbkm.fit(X_train_lsa)\n",
    "        score_mbkm.append([n, adjusted_rand_score(y_train_tfidf, mbkm.labels_)])\n",
    "\n",
    "# Put the results in a dataframe to do a groupby operation\n",
    "nn_df = pd.DataFrame(score_mbkm, columns=['n', 'score'])\n",
    "\n",
    "# I used groupby().mean() to smooth out scores\n",
    "plt.plot(nn_df.groupby('n', 0).mean())\n",
    "plt.title('Mini-Batch K-Means Averaged ARI ({} Iterations)'.format(i+1))\n",
    "plt.xlabel('n_clusters')\n",
    "plt.ylabel('Average ARI')\n",
    "plt.ylim([0, 1])\n",
    "plt.show()"
   ]
  },
  {
   "cell_type": "markdown",
   "metadata": {},
   "source": [
    "The tfidf vector doesn't seem to do too well either, however the two graphs do seem to agree that the best number of clusters seems to be around 15.\n",
    "\n",
    "Let's try Spectral Clustering and then we will take a closer look at the one that seems the most stable."
   ]
  },
  {
   "cell_type": "markdown",
   "metadata": {},
   "source": [
    "## Spectral Clustering"
   ]
  },
  {
   "cell_type": "code",
   "execution_count": null,
   "metadata": {},
   "outputs": [],
   "source": [
    "score_sc = []\n",
    "for i in range(1):\n",
    "    for n in range(3, 25):\n",
    "        spec_cl = cluster.SpectralClustering(n_clusters=n, n_jobs=-1)\n",
    "        spec_cl.fit(X_train_lsa)\n",
    "        score_sc.append([n, adjusted_rand_score(y_train_tfidf, mbkm.labels_)])\n",
    "        \n",
    "# Put the results in a dataframe to do a groupby operation\n",
    "nnn_df = pd.DataFrame(score_sc, columns=['n', 'score'])\n",
    "\n",
    "# I used groupby().mean() to smooth out scores\n",
    "plt.plot(nnn_df.groupby('n', 0).mean())\n",
    "plt.title('Spectral Clustering Averaged ARI ({} Iterations)'.format(i+1))\n",
    "plt.xlabel('n_clusters')\n",
    "plt.ylabel('Average ARI')\n",
    "plt.ylim([0, 1])\n",
    "plt.show()"
   ]
  },
  {
   "cell_type": "markdown",
   "metadata": {},
   "source": [
    "# Predicting Authors"
   ]
  },
  {
   "cell_type": "code",
   "execution_count": 19,
   "metadata": {},
   "outputs": [],
   "source": [
    "# This function reports the top n_top results for a random search\n",
    "def report(results, n_top=5):\n",
    "    for i in range(1, n_top + 1):\n",
    "        candidates = np.flatnonzero(results['rank_test_score'] == i)\n",
    "        for candidate in candidates:\n",
    "            print(\"Model with rank: {0}\".format(i))\n",
    "            print(\"Mean validation score: {0:.3f} (std: {1:.3f})\".format(\n",
    "                  results['mean_test_score'][candidate],\n",
    "                  results['std_test_score'][candidate]))\n",
    "            print(\"Parameters: {0}\".format(results['params'][candidate]))\n",
    "            print(\"\")"
   ]
  },
  {
   "cell_type": "markdown",
   "metadata": {},
   "source": [
    "### Linear SVC"
   ]
  },
  {
   "cell_type": "code",
   "execution_count": 20,
   "metadata": {},
   "outputs": [
    {
     "name": "stderr",
     "output_type": "stream",
     "text": [
      "C:\\Users\\bretw\\AppData\\Local\\Continuum\\anaconda3\\lib\\site-packages\\sklearn\\model_selection\\_split.py:605: Warning: The least populated class in y has only 1 members, which is too few. The minimum number of members in any class cannot be less than n_splits=3.\n",
      "  % (min_groups, self.n_splits)), Warning)\n"
     ]
    },
    {
     "name": "stdout",
     "output_type": "stream",
     "text": [
      "Model with rank: 1\n",
      "Mean validation score: 0.958 (std: 0.003)\n",
      "Parameters: {'C': 7.433633039152398}\n",
      "\n"
     ]
    }
   ],
   "source": [
    "from sklearn.svm import LinearSVC\n",
    "from sklearn.model_selection import RandomizedSearchCV\n",
    "from sklearn.metrics import f1_score\n",
    "from scipy.stats import randint as sp_randint\n",
    "\n",
    "param_dist = {'C':np.random.uniform(7, 8, 50)}\n",
    "lin_svc = LinearSVC()\n",
    "\n",
    "svc_clf = RandomizedSearchCV(lin_svc, param_distributions=param_dist, \n",
    "                             n_iter=1, scoring='accuracy',\n",
    "                             n_jobs=-1)\n",
    "\n",
    "svc_clf.fit(X_train_lsa, y_train_tfidf)\n",
    "report(svc_clf.cv_results_)"
   ]
  },
  {
   "cell_type": "markdown",
   "metadata": {},
   "source": [
    "That is _pretty damn good_. I'm very happy with that result!"
   ]
  },
  {
   "cell_type": "markdown",
   "metadata": {},
   "source": [
    "### Naive Bayes (TFIDF)"
   ]
  },
  {
   "cell_type": "code",
   "execution_count": 22,
   "metadata": {},
   "outputs": [
    {
     "name": "stderr",
     "output_type": "stream",
     "text": [
      "C:\\Users\\bretw\\AppData\\Local\\Continuum\\anaconda3\\lib\\site-packages\\sklearn\\model_selection\\_split.py:605: Warning: The least populated class in y has only 1 members, which is too few. The minimum number of members in any class cannot be less than n_splits=3.\n",
      "  % (min_groups, self.n_splits)), Warning)\n"
     ]
    },
    {
     "name": "stdout",
     "output_type": "stream",
     "text": [
      "Model with rank: 1\n",
      "Mean validation score: 0.452 (std: 0.023)\n",
      "Parameters: {'alpha': 0.04161814847769151}\n",
      "\n"
     ]
    }
   ],
   "source": [
    "from sklearn.naive_bayes import MultinomialNB\n",
    "\n",
    "param_dist = {'alpha':np.random.uniform(0.04, 0.06, 50)}\n",
    "mnb = MultinomialNB()\n",
    "mnb_clf = RandomizedSearchCV(mnb, param_distributions=param_dist, \n",
    "                             n_iter=1, scoring='f1_macro',\n",
    "                             n_jobs=-1)\n",
    "\n",
    "mnb_clf.fit(X_train_tfidf, y_train_tfidf)\n",
    "report(mnb_clf.cv_results_)"
   ]
  },
  {
   "cell_type": "markdown",
   "metadata": {},
   "source": [
    "### Random Forest"
   ]
  },
  {
   "cell_type": "code",
   "execution_count": 23,
   "metadata": {},
   "outputs": [
    {
     "name": "stderr",
     "output_type": "stream",
     "text": [
      "C:\\Users\\bretw\\AppData\\Local\\Continuum\\anaconda3\\lib\\site-packages\\sklearn\\model_selection\\_split.py:605: Warning: The least populated class in y has only 1 members, which is too few. The minimum number of members in any class cannot be less than n_splits=3.\n",
      "  % (min_groups, self.n_splits)), Warning)\n"
     ]
    },
    {
     "name": "stdout",
     "output_type": "stream",
     "text": [
      "Model with rank: 1\n",
      "Mean validation score: 0.746 (std: 0.018)\n",
      "Parameters: {'n_estimators': 42}\n",
      "\n",
      "Model with rank: 2\n",
      "Mean validation score: 0.733 (std: 0.019)\n",
      "Parameters: {'n_estimators': 42}\n",
      "\n",
      "Model with rank: 3\n",
      "Mean validation score: 0.731 (std: 0.008)\n",
      "Parameters: {'n_estimators': 43}\n",
      "\n"
     ]
    }
   ],
   "source": [
    "from sklearn.ensemble import RandomForestClassifier\n",
    "\n",
    "param_dist = {'n_estimators':sp_randint(40, 45)}\n",
    "rfc = RandomForestClassifier()\n",
    "\n",
    "rfc_clf = RandomizedSearchCV(rfc, param_distributions=param_dist, \n",
    "                             n_iter=3, scoring='f1_macro',\n",
    "                             n_jobs=-1)\n",
    "\n",
    "rfc_clf.fit(X_train_lsa, y_train_tfidf)\n",
    "report(rfc_clf.cv_results_)"
   ]
  },
  {
   "cell_type": "code",
   "execution_count": null,
   "metadata": {},
   "outputs": [
    {
     "name": "stderr",
     "output_type": "stream",
     "text": [
      "C:\\Users\\bretw\\AppData\\Local\\Continuum\\anaconda3\\lib\\site-packages\\sklearn\\metrics\\classification.py:1135: UndefinedMetricWarning: F-score is ill-defined and being set to 0.0 in labels with no predicted samples.\n",
      "  'precision', 'predicted', average, warn_for)\n"
     ]
    },
    {
     "data": {
      "text/plain": [
       "0.7976050839640538"
      ]
     },
     "execution_count": 24,
     "metadata": {},
     "output_type": "execute_result"
    }
   ],
   "source": [
    "rfc_clf.score(X_test_lsa, y_test_tfidf)"
   ]
  },
  {
   "cell_type": "markdown",
   "metadata": {},
   "source": [
    "### Gradient Boosting"
   ]
  },
  {
   "cell_type": "code",
   "execution_count": null,
   "metadata": {},
   "outputs": [
    {
     "name": "stderr",
     "output_type": "stream",
     "text": [
      "C:\\Users\\bretw\\AppData\\Local\\Continuum\\anaconda3\\lib\\site-packages\\sklearn\\model_selection\\_split.py:605: Warning: The least populated class in y has only 1 members, which is too few. The minimum number of members in any class cannot be less than n_splits=3.\n",
      "  % (min_groups, self.n_splits)), Warning)\n"
     ]
    }
   ],
   "source": [
    "from sklearn.ensemble import GradientBoostingClassifier\n",
    "\n",
    "param_dist = {'n_estimators':sp_randint(50, 200, 50), \n",
    "              'max_depth':sp_randint(2, 4)}\n",
    "gbc = GradientBoostingClassifier()\n",
    "gbc_clf = RandomizedSearchCV(gbc, param_distributions=param_dist, \n",
    "                             n_iter=30, scoring='f1_macro',\n",
    "                             n_jobs=-1)\n",
    "\n",
    "gbc_clf.fit(X_train_tfidf, y_train_tfidf)\n",
    "report(gbc_clf.cv_results_)"
   ]
  },
  {
   "cell_type": "markdown",
   "metadata": {},
   "source": [
    "# Final Results"
   ]
  },
  {
   "cell_type": "markdown",
   "metadata": {},
   "source": [
    "The best estimator was clearly the LinearSVC algorithm. It acheived a best cross validation score of 0.96 accuracy using a dataset of over 11,000 examples and x authors. Our dataset was able to mimic the length of a text that could be used by an Essay Mill detector, although there are a few things that would need to change for the real thing.\n",
    "\n",
    "1. There are too many texts per author. In a university setting, especially for students that are _not_ english majors (and in my opinion, more prone to cheating on an essay), you will only have a handful of samples from each student. One assumption that could help us here is if the samples dated back to high school writing as well as university level writing.\n",
    "2. These texts are full of named entities that may be giving away who the author is. If a chapter contains the words \"Huckleberry\" and \"Sawyer\", for instance, you could probably guess it's a Mark Twain book just from those two words. In addition, we are using multiple chapters from the same book as individual pieces of data. This is not representative of the use case's data, and it may be teaching our algorithm to classify just a handful of books to an author instead of learning their style.\n",
    "3. As discussed in the beginning, the training data was taken from story-driven narratives (not entirely true, there a few essays by Ben Franklin, Charles Darwin, and other scientists strewn in there). The real dataset would need to also consist of more argumentative texts, in addition to the narrative texts.\n",
    "4. Every single one of these authors (read: assumption!) had an editor that pored over every line of text to fix grammar, spelling, and inconsistencies with the story/logic. A student essay may not be so polished. On the same note, these published authors have been writing for a long time, and may be the reason they have a very distinct style. There's a chance that a college level writer will not have had enough practice to establish themselves as a writer with a voice yet, and then the algorithm won't work.\n",
    "\n",
    "With those things in mind, I'd like to see how the LinearSVC algorithm does on our test set:"
   ]
  },
  {
   "cell_type": "code",
   "execution_count": null,
   "metadata": {},
   "outputs": [],
   "source": [
    "# Call our best estimator for the linear SVC Random Search object, and run the score method:\n",
    "best = svc_clf.best_estimator_.score(X_test_lsa, y_test_tfidf)\n",
    "print('Test score using best Linear SVC parameters:', best)"
   ]
  },
  {
   "cell_type": "markdown",
   "metadata": {},
   "source": [
    "# Conclusion"
   ]
  },
  {
   "cell_type": "markdown",
   "metadata": {},
   "source": [
    "This project has demonstrated that with enough data, we can easily classify the authors of a text based on word choice. Unfortunately, our dataset was a little unwieldy when it came to clustering the texts, however we were able to use unsupervised LSA (using SVD) to reduce the dimensionality. The algorithms used in this exercise, although simple, were able to produce very good results on a desktop PC. "
   ]
  }
 ],
 "metadata": {
  "kernelspec": {
   "display_name": "Python 3",
   "language": "python",
   "name": "python3"
  },
  "language_info": {
   "codemirror_mode": {
    "name": "ipython",
    "version": 3
   },
   "file_extension": ".py",
   "mimetype": "text/x-python",
   "name": "python",
   "nbconvert_exporter": "python",
   "pygments_lexer": "ipython3",
   "version": "3.6.4"
  }
 },
 "nbformat": 4,
 "nbformat_minor": 2
}
